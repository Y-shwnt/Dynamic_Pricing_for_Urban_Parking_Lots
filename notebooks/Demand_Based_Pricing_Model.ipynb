{
  "cells": [
    {
      "cell_type": "markdown",
      "metadata": {
        "id": "OB7m8sUzw-qx"
      },
      "source": [
        "# Install and Import All Libraries"
      ]
    },
    {
      "cell_type": "code",
      "execution_count": null,
      "metadata": {
        "id": "RgtRTADBwtL8"
      },
      "outputs": [],
      "source": [
        "#install required packages\n",
        "\n",
        "!pip install pathway bokeh --quiet"
      ]
    },
    {
      "cell_type": "code",
      "execution_count": null,
      "metadata": {
        "id": "phLocfdixCmE"
      },
      "outputs": [],
      "source": [
        "# suppress specific user warnings from Bokeh\n",
        "\n",
        "import warnings\n",
        "warnings.filterwarnings(\"ignore\", category=UserWarning, module='bokeh')"
      ]
    },
    {
      "cell_type": "code",
      "execution_count": null,
      "metadata": {
        "id": "bzs24D1yv3bs"
      },
      "outputs": [],
      "source": [
        "# core Libraries\n",
        "\n",
        "import numpy as np\n",
        "import pandas as pd\n",
        "from datetime import datetime"
      ]
    },
    {
      "cell_type": "code",
      "execution_count": null,
      "metadata": {
        "colab": {
          "base_uri": "https://localhost:8080/",
          "height": 17
        },
        "id": "gfVuh5cEv5iT",
        "outputId": "6346dad8-ba48-42cc-e4b9-d501f33a7785"
      },
      "outputs": [],
      "source": [
        "# Pathway & Bokeh\n",
        "\n",
        "import pathway as pw\n",
        "import panel as pn\n",
        "import bokeh.plotting"
      ]
    },
    {
      "cell_type": "markdown",
      "metadata": {
        "id": "r6KDzTtSxKCI"
      },
      "source": [
        "# Load and Prepare Dataset"
      ]
    },
    {
      "cell_type": "code",
      "execution_count": null,
      "metadata": {
        "colab": {
          "base_uri": "https://localhost:8080/",
          "height": 226
        },
        "id": "qOZCxXtixH-c",
        "outputId": "3141625f-f4ff-4023-d25a-08635d83f2e4"
      },
      "outputs": [],
      "source": [
        "#load dataset\n",
        "\n",
        "df = pd.read_csv('/content/dataset.csv')\n",
        "df.head()"
      ]
    },
    {
      "cell_type": "code",
      "execution_count": null,
      "metadata": {
        "colab": {
          "base_uri": "https://localhost:8080/",
          "height": 460
        },
        "id": "Jm8Mf41FxP3i",
        "outputId": "f6b393de-e006-428b-9216-b06c95759482"
      },
      "outputs": [],
      "source": [
        "#check for missing values\n",
        "\n",
        "df.isna().sum()"
      ]
    },
    {
      "cell_type": "markdown",
      "metadata": {
        "id": "p8njevJPwb7J"
      },
      "source": [
        "## Sort by timestamps"
      ]
    },
    {
      "cell_type": "code",
      "execution_count": null,
      "metadata": {
        "id": "RvGOaNu5xTGA"
      },
      "outputs": [],
      "source": [
        "# combine and convert date-time fields into single timestamp\n",
        "\n",
        "df['Timestamp'] = pd.to_datetime(\n",
        "    df['LastUpdatedDate'] + ' ' + df['LastUpdatedTime'],\n",
        "    format='%d-%m-%Y %H:%M:%S'\n",
        ")"
      ]
    },
    {
      "cell_type": "code",
      "execution_count": null,
      "metadata": {
        "id": "QyDS9jfnwmiC"
      },
      "outputs": [],
      "source": [
        "# sort by time\n",
        "\n",
        "df = df.sort_values('Timestamp').reset_index(drop=True)"
      ]
    },
    {
      "cell_type": "code",
      "execution_count": null,
      "metadata": {
        "id": "yRRuwYLTwp9k"
      },
      "outputs": [],
      "source": [
        "# compute occupancy rate\n",
        "\n",
        "df[\"OccupancyRate\"] = df[\"Occupancy\"] / df[\"Capacity\"]"
      ]
    },
    {
      "cell_type": "code",
      "execution_count": null,
      "metadata": {
        "id": "teYSElX-wrI2"
      },
      "outputs": [],
      "source": [
        "# export relvant columns for streaming\n",
        "\n",
        "df[[\"SystemCodeNumber\",\"Timestamp\", \"Occupancy\", \"Capacity\", \"QueueLength\",\n",
        "    \"TrafficConditionNearby\", \"IsSpecialDay\", \"VehicleType\"]].to_csv(\"parking_stream.csv\", index=False)"
      ]
    },
    {
      "cell_type": "markdown",
      "metadata": {
        "id": "qs_mCCYrxXz5"
      },
      "source": [
        "# Define Schema and Create Real-Time Stream"
      ]
    },
    {
      "cell_type": "code",
      "execution_count": null,
      "metadata": {
        "id": "jVn1AYJwxVOj"
      },
      "outputs": [],
      "source": [
        "# define schema for Pathway stream\n",
        "\n",
        "class ParkingSchema(pw.Schema):\n",
        "    SystemCodeNumber: str\n",
        "    Timestamp: str\n",
        "    Occupancy: int\n",
        "    Capacity: int\n",
        "    QueueLength: int\n",
        "    TrafficConditionNearby: str\n",
        "    IsSpecialDay: bool\n",
        "    VehicleType: str"
      ]
    },
    {
      "cell_type": "code",
      "execution_count": null,
      "metadata": {
        "id": "neYm_XMyxb34"
      },
      "outputs": [],
      "source": [
        "# create real-time stream from CSV\n",
        "\n",
        "data = pw.demo.replay_csv(\"parking_stream.csv\", schema=ParkingSchema, input_rate=100)"
      ]
    },
    {
      "cell_type": "markdown",
      "metadata": {
        "id": "wEOydH34xf-B"
      },
      "source": [
        "# Feature Engineering and Preprocessing"
      ]
    },
    {
      "cell_type": "code",
      "execution_count": null,
      "metadata": {
        "id": "rliunPzCxdgr"
      },
      "outputs": [],
      "source": [
        "# define UDFs for converting traffic and vehicle types to numeric factors\n",
        "\n",
        "@pw.udf\n",
        "def traffic_to_level(traffic: str) -> int:\n",
        "    return {\"low\": 0, \"average\": 1, \"high\": 2}.get(traffic, 1)\n",
        "\n",
        "@pw.udf\n",
        "def vehicle_factor(vtype: str) -> int:\n",
        "    return {\"cycle\": 0, \"bike\": 1, \"car\": 2, \"truck\": 3}.get(vtype, 1)"
      ]
    },
    {
      "cell_type": "code",
      "execution_count": null,
      "metadata": {
        "id": "rRENgRrwxiZz"
      },
      "outputs": [],
      "source": [
        "# apply transformations to stream data\n",
        "\n",
        "fmt = \"%Y-%m-%d %H:%M:%S\"\n",
        "\n",
        "data_with_time = data.with_columns(\n",
        "    t = data.Timestamp.dt.strptime(fmt),\n",
        "    day = data.Timestamp.dt.strptime(fmt).dt.strftime(\"%Y-%m-%dT00:00:00\"),\n",
        "    OccupancyRate = data.Occupancy / data.Capacity,\n",
        "    TrafficLevel = traffic_to_level(data.TrafficConditionNearby),\n",
        "    VehicleFactor = vehicle_factor(data.VehicleType),\n",
        "    IsSpecialDay = data.IsSpecialDay,\n",
        "    QueueLength = data.QueueLength,\n",
        "    lot = data.SystemCodeNumber,\n",
        "    instance = data.Timestamp.dt.strptime(fmt).dt.strftime(\"%Y-%m-%d\") + \"_\" + data.SystemCodeNumber\n",
        ")"
      ]
    },
    {
      "cell_type": "markdown",
      "metadata": {
        "id": "Z-yMV3qJxmpI"
      },
      "source": [
        "# Model 2: Demand-Based Dynamic Pricing"
      ]
    },
    {
      "cell_type": "code",
      "execution_count": null,
      "metadata": {
        "id": "t3LlhpxzxkRy"
      },
      "outputs": [],
      "source": [
        "# demand calculation function\n",
        "\n",
        "@pw.udf\n",
        "def compute_demand(occ: float, queue: float, traffic: float, special: bool, vehicle: float) -> float:\n",
        "    α, β, γ, δ, ε = 1, 0.5, 0.2, 2, 0.8\n",
        "    demand = α * occ + β * queue - γ * traffic + δ * int(special) + ε * vehicle\n",
        "    return demand"
      ]
    },
    {
      "cell_type": "code",
      "execution_count": null,
      "metadata": {
        "id": "u4lFjLb5w9qk"
      },
      "outputs": [],
      "source": [
        "# price calculation function\n",
        "\n",
        "@pw.udf\n",
        "def compute_price(base: float, demand: float, max_demand: float = 50.0, λ: float = 0.5) -> float:\n",
        "    norm_demand = min(demand / max_demand, 1.0)\n",
        "    raw_price = base * (1 + λ * norm_demand)\n",
        "    return max(0.5 * base, min(raw_price, 2.0 * base))"
      ]
    },
    {
      "cell_type": "code",
      "execution_count": null,
      "metadata": {
        "id": "fqhDuGEwxqBz"
      },
      "outputs": [],
      "source": [
        "# daily rolling window aggregation\n",
        "\n",
        "import datetime\n",
        "reduced = (\n",
        "    data_with_time.windowby(\n",
        "        pw.this.t,\n",
        "        instance=pw.this.instance,\n",
        "        window=pw.temporal.tumbling(datetime.timedelta(days=1)),\n",
        "        behavior=pw.temporal.exactly_once_behavior()\n",
        "    )\n",
        "    .reduce(\n",
        "        t = pw.this._pw_window_end,\n",
        "        occ_sum = pw.reducers.sum(pw.this.OccupancyRate),\n",
        "        queue_sum = pw.reducers.sum(pw.this.QueueLength),\n",
        "        traffic_sum = pw.reducers.sum(pw.this.TrafficLevel),\n",
        "        vehicle_sum = pw.reducers.sum(pw.this.VehicleFactor),\n",
        "        special_any = pw.reducers.max(pw.this.IsSpecialDay),\n",
        "        n = pw.reducers.count(),\n",
        "        lot = pw.reducers.min(pw.this.lot)\n",
        "    )\n",
        "    .with_columns(\n",
        "        occ_avg = pw.this.occ_sum / pw.this.n,\n",
        "        queue_avg = pw.this.queue_sum / pw.this.n,\n",
        "        traffic_avg = pw.this.traffic_sum / pw.this.n,\n",
        "        vehicle_avg = pw.this.vehicle_sum / pw.this.n\n",
        "    )\n",
        ")"
      ]
    },
    {
      "cell_type": "code",
      "execution_count": null,
      "metadata": {
        "id": "IVGYYrAixsit"
      },
      "outputs": [],
      "source": [
        "# compute demand\n",
        "\n",
        "delta_window = reduced.with_columns(\n",
        "    demand = compute_demand(\n",
        "        reduced.occ_avg,\n",
        "        reduced.queue_avg,\n",
        "        reduced.traffic_avg,\n",
        "        reduced.special_any,\n",
        "        reduced.vehicle_avg\n",
        "    )\n",
        ")"
      ]
    },
    {
      "cell_type": "code",
      "execution_count": null,
      "metadata": {
        "id": "qDqCeEMmxP5f"
      },
      "outputs": [],
      "source": [
        "# compute price using previously created demand\n",
        "\n",
        "delta_window = delta_window.with_columns(\n",
        "    price = compute_price(10.0, delta_window.demand)\n",
        ")"
      ]
    },
    {
      "cell_type": "markdown",
      "metadata": {
        "id": "NmGbV8pKzOle"
      },
      "source": [
        "# Live Plot: Daily Dynamic Pricing by Lot"
      ]
    },
    {
      "cell_type": "code",
      "execution_count": null,
      "metadata": {
        "colab": {
          "base_uri": "https://localhost:8080/",
          "height": 468
        },
        "id": "Bh5XiuDs3kbE",
        "outputId": "f3a2372d-5b73-46ed-e45e-b6fdb96c687c"
      },
      "outputs": [],
      "source": [
        "pn.extension()\n",
        "\n",
        "# define interactive Bokeh plot\n",
        "\n",
        "def price_plotter(source):\n",
        "    fig = bokeh.plotting.figure(\n",
        "        height=400,\n",
        "        width=800,\n",
        "        title=\"Pathway: MODEL 2 - Daily Parking Price\",\n",
        "        x_axis_type=\"datetime\",\n",
        "    )\n",
        "\n",
        "    fig.line(\"t\", \"price\", source=source, line_width=2, color=\"navy\")\n",
        "    fig.scatter(\"t\", \"price\", source=source, size=6, color=\"green\", marker=\"circle\")\n",
        "\n",
        "    fig.xaxis.axis_label = \"Time\"\n",
        "    fig.yaxis.axis_label = \"Price ($)\"\n",
        "    return fig\n",
        "\n",
        "# launch panel dashboard\n",
        "viz = delta_window.plot(price_plotter, sorting_col=\"t\")\n",
        "pn.Column(viz).servable()\n",
        "viz.servable()"
      ]
    },
    {
      "cell_type": "markdown",
      "metadata": {
        "id": "k3Ovd2XbzUo9"
      },
      "source": [
        "# Export Model Outputs to JSONL and Run Pipeline"
      ]
    },
    {
      "cell_type": "code",
      "execution_count": null,
      "metadata": {
        "colab": {
          "base_uri": "https://localhost:8080/",
          "height": 108,
          "referenced_widgets": [
            "e3440e8fbbd149ed9292e563d6e57385",
            "1ceacf41916e4e1582d8a4c2615d1146"
          ]
        },
        "id": "dBTJMSOlzSFN",
        "outputId": "9ce2c9d5-09e0-4045-f0ae-dc0151d02dbe"
      },
      "outputs": [],
      "source": [
        "# save output to JSONL for further analysis\n",
        "\n",
        "pw.io.jsonlines.write(\n",
        "    delta_window.select(pw.this.t, pw.this.lot, pw.this.price),\n",
        "    \"pricing_output.jsonl\"\n",
        ")\n",
        "\n",
        "# run the Pathway computation\n",
        "pw.run()"
      ]
    },
    {
      "cell_type": "markdown",
      "metadata": {
        "id": "1Y5Gyqjqzemw"
      },
      "source": [
        "# Load Output and Generate Interactive Plot (Full Timeline)"
      ]
    },
    {
      "cell_type": "code",
      "execution_count": null,
      "metadata": {
        "colab": {
          "base_uri": "https://localhost:8080/",
          "height": 517,
          "resources": {
            "http://localhost:8080/static/extensions/panel/bundled/datatabulator/luxon/build/global/luxon.min.js": {
              "data": "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",
              "headers": [
                [
                  "content-length",
                  "9307"
                ],
                [
                  "content-type",
                  "text/html"
                ]
              ],
              "ok": false,
              "status": 404,
              "status_text": ""
            },
            "http://localhost:8080/static/extensions/panel/bundled/datatabulator/tabulator-tables@6.3.1/dist/css/tabulator_simple.min.css": {
              "data": "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",
              "headers": [
                [
                  "content-length",
                  "9307"
                ],
                [
                  "content-type",
                  "text/html"
                ]
              ],
              "ok": false,
              "status": 404,
              "status_text": ""
            },
            "http://localhost:8080/static/extensions/panel/bundled/datatabulator/tabulator-tables@6.3.1/dist/js/tabulator.min.js": {
              "data": "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",
              "headers": [
                [
                  "content-length",
                  "9307"
                ],
                [
                  "content-type",
                  "text/html"
                ]
              ],
              "ok": false,
              "status": 404,
              "status_text": ""
            },
            "http://localhost:8080/static/extensions/panel/bundled/reactiveesm/es-module-shims@%5E1.10.0/dist/es-module-shims.min.js": {
              "data": "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",
              "headers": [
                [
                  "content-length",
                  "9307"
                ],
                [
                  "content-type",
                  "text/html"
                ]
              ],
              "ok": false,
              "status": 404,
              "status_text": ""
            }
          }
        },
        "id": "qciieSPRzXeQ",
        "outputId": "b11b89a1-3f36-46a7-dc53-a3ebdbf1916f"
      },
      "outputs": [],
      "source": [
        "from bokeh.plotting import figure, show, output_notebook, output_file\n",
        "from bokeh.models import ColumnDataSource, HoverTool\n",
        "from bokeh.palettes import Category10_10 as palette\n",
        "import pandas as pd\n",
        "\n",
        "output_notebook()\n",
        "\n",
        "#load and prepare data\n",
        "df = pd.read_json(\"pricing_output.jsonl\", lines=True)\n",
        "df[\"t\"] = pd.to_datetime(df[\"t\"])                       # Safe datetime\n",
        "df[\"price\"] = pd.to_numeric(df[\"price\"], downcast=\"float\")\n",
        "df[\"lot\"] = df[\"lot\"].astype(str)\n",
        "\n",
        "#define Bokeh figure\n",
        "fig = figure(\n",
        "    height=500,\n",
        "    width=900,\n",
        "    title=\"Daily Pricing Across Parking Lots\",\n",
        "    x_axis_type=\"datetime\",\n",
        "    tools=\"pan,wheel_zoom,box_zoom,reset\"\n",
        ")\n",
        "\n",
        "#add hover tool\n",
        "hover = HoverTool(\n",
        "    tooltips=[\n",
        "        (\"Lot\", \"@lot\"),\n",
        "        (\"Time\", \"@t{%F %H:%M}\"),\n",
        "        (\"Price\", \"@price{$0.00}\")\n",
        "    ],\n",
        "    formatters={\"@t\": \"datetime\", \"@price\": \"printf\"},\n",
        "    mode='vline'\n",
        ")\n",
        "fig.add_tools(hover)\n",
        "\n",
        "#plot each lot safely\n",
        "for i, lot in enumerate(sorted(df[\"lot\"].unique())):\n",
        "    df_lot = df[df[\"lot\"] == lot][[\"t\", \"price\", \"lot\"]]  # ✅ Restrict to safe columns only\n",
        "    source = ColumnDataSource(df_lot)\n",
        "\n",
        "    fig.line(\"t\", \"price\", source=source, legend_label=f\"Lot {lot}\",\n",
        "             color=palette[i % len(palette)], line_width=2)\n",
        "\n",
        "#final plot formatting\n",
        "fig.xaxis.axis_label = \"Time\"\n",
        "fig.yaxis.axis_label = \"Price ($)\"\n",
        "fig.legend.location = \"top_left\"\n",
        "fig.legend.label_text_font_size = \"8pt\"\n",
        "\n",
        "#show and save\n",
        "show(fig)\n",
        "output_file(\"daily_pricing_comparison.html\")"
      ]
    },
    {
      "cell_type": "markdown",
      "metadata": {
        "id": "VmNVAobvzlmY"
      },
      "source": [
        "# Save Plot as HTML"
      ]
    },
    {
      "cell_type": "code",
      "execution_count": null,
      "metadata": {
        "colab": {
          "base_uri": "https://localhost:8080/",
          "height": 17
        },
        "id": "OFcf6xFkziBj",
        "outputId": "8f51f325-a43c-4627-eba5-779a826a7ad5"
      },
      "outputs": [],
      "source": [
        "from google.colab import files\n",
        "files.download(\"daily_pricing_comparison.html\")"
      ]
    },
    {
      "cell_type": "markdown",
      "metadata": {
        "id": "7CMEOlo3ztZm"
      },
      "source": [
        "# Plot Each Lot in Separate Panels"
      ]
    },
    {
      "cell_type": "code",
      "execution_count": null,
      "metadata": {
        "colab": {
          "base_uri": "https://localhost:8080/",
          "height": 1000,
          "resources": {
            "http://localhost:8080/static/extensions/panel/bundled/datatabulator/luxon/build/global/luxon.min.js": {
              "data": "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",
              "headers": [
                [
                  "content-length",
                  "9307"
                ],
                [
                  "content-type",
                  "text/html"
                ]
              ],
              "ok": false,
              "status": 404,
              "status_text": ""
            },
            "http://localhost:8080/static/extensions/panel/bundled/datatabulator/tabulator-tables@6.3.1/dist/css/tabulator_simple.min.css": {
              "data": "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",
              "headers": [
                [
                  "content-length",
                  "9307"
                ],
                [
                  "content-type",
                  "text/html"
                ]
              ],
              "ok": false,
              "status": 404,
              "status_text": ""
            },
            "http://localhost:8080/static/extensions/panel/bundled/datatabulator/tabulator-tables@6.3.1/dist/js/tabulator.min.js": {
              "data": "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",
              "headers": [
                [
                  "content-length",
                  "9307"
                ],
                [
                  "content-type",
                  "text/html"
                ]
              ],
              "ok": false,
              "status": 404,
              "status_text": ""
            },
            "http://localhost:8080/static/extensions/panel/bundled/reactiveesm/es-module-shims@%5E1.10.0/dist/es-module-shims.min.js": {
              "data": "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",
              "headers": [
                [
                  "content-length",
                  "9307"
                ],
                [
                  "content-type",
                  "text/html"
                ]
              ],
              "ok": false,
              "status": 404,
              "status_text": ""
            }
          }
        },
        "id": "HFQlGW3Kzp0w",
        "outputId": "4be1f6ae-c514-4986-ef31-54bad75c7c61"
      },
      "outputs": [],
      "source": [
        "from bokeh.layouts import column\n",
        "from bokeh.palettes import Category10_10\n",
        "\n",
        "plots = []\n",
        "for i, lot in enumerate(sorted(df[\"lot\"].unique())):\n",
        "    df_lot = df[df[\"lot\"] == lot].copy()\n",
        "\n",
        "    #only include safe columns to prevent precision warnings\n",
        "    source = ColumnDataSource(df_lot[[\"t\", \"price\", \"lot\"]])\n",
        "\n",
        "    p = figure(\n",
        "        height=300,\n",
        "        width=800,\n",
        "        title=f\"Daily Price: Lot {lot}\",\n",
        "        x_axis_type=\"datetime\",\n",
        "        tools=\"pan,wheel_zoom,box_zoom,reset\"\n",
        "    )\n",
        "\n",
        "    p.line(\"t\", \"price\", source=source,\n",
        "           line_width=2, color=Category10_10[i % len(Category10_10)])\n",
        "    p.scatter(\"t\", \"price\", source=source, size=5, marker=\"circle\", color=\"black\")\n",
        "\n",
        "    hover = HoverTool(\n",
        "        tooltips=[(\"Lot\", \"@lot\"), (\"Time\", \"@t{%F %H:%M}\"), (\"Price\", \"@price{$0.00}\")],\n",
        "        formatters={\"@t\": \"datetime\", \"@price\": \"printf\"},\n",
        "        mode='vline'\n",
        "    )\n",
        "    p.add_tools(hover)\n",
        "    p.xaxis.axis_label = \"Time\"\n",
        "    p.yaxis.axis_label = \"Price ($)\"\n",
        "    plots.append(p)\n",
        "\n",
        "#show all plots\n",
        "show(column(*plots))\n",
        "\n",
        "#save to HTML\n",
        "output_file(\"model2_price_trends.html\", title=\"Model 2: Daily Parking Price Trends\")"
      ]
    },
    {
      "cell_type": "code",
      "execution_count": null,
      "metadata": {
        "colab": {
          "base_uri": "https://localhost:8080/",
          "height": 17
        },
        "id": "y95tsRpRzwmG",
        "outputId": "c10950c6-6fa2-4560-99a1-cdad74b30f72"
      },
      "outputs": [],
      "source": [
        "files.download(\"model2_price_trends.html\")"
      ]
    },
    {
      "cell_type": "code",
      "execution_count": null,
      "metadata": {
        "id": "w655ikhH04Jl"
      },
      "outputs": [],
      "source": []
    }
  ],
  "metadata": {
    "colab": {
      "provenance": []
    },
    "kernelspec": {
      "display_name": "Python 3",
      "name": "python3"
    },
    "language_info": {
      "name": "python"
    },
    "widgets": {
      "application/vnd.jupyter.widget-state+json": {
        "1ceacf41916e4e1582d8a4c2615d1146": {
          "model_module": "@jupyter-widgets/base",
          "model_module_version": "2.0.0",
          "model_name": "LayoutModel",
          "state": {
            "_model_module": "@jupyter-widgets/base",
            "_model_module_version": "2.0.0",
            "_model_name": "LayoutModel",
            "_view_count": null,
            "_view_module": "@jupyter-widgets/base",
            "_view_module_version": "2.0.0",
            "_view_name": "LayoutView",
            "align_content": null,
            "align_items": null,
            "align_self": null,
            "border_bottom": null,
            "border_left": null,
            "border_right": null,
            "border_top": null,
            "bottom": null,
            "display": null,
            "flex": null,
            "flex_flow": null,
            "grid_area": null,
            "grid_auto_columns": null,
            "grid_auto_flow": null,
            "grid_auto_rows": null,
            "grid_column": null,
            "grid_gap": null,
            "grid_row": null,
            "grid_template_areas": null,
            "grid_template_columns": null,
            "grid_template_rows": null,
            "height": null,
            "justify_content": null,
            "justify_items": null,
            "left": null,
            "margin": null,
            "max_height": null,
            "max_width": null,
            "min_height": null,
            "min_width": null,
            "object_fit": null,
            "object_position": null,
            "order": null,
            "overflow": null,
            "padding": null,
            "right": null,
            "top": null,
            "visibility": null,
            "width": null
          }
        },
        "e3440e8fbbd149ed9292e563d6e57385": {
          "model_module": "@jupyter-widgets/output",
          "model_module_version": "1.0.0",
          "model_name": "OutputModel",
          "state": {
            "_dom_classes": [],
            "_model_module": "@jupyter-widgets/output",
            "_model_module_version": "1.0.0",
            "_model_name": "OutputModel",
            "_view_count": null,
            "_view_module": "@jupyter-widgets/output",
            "_view_module_version": "1.0.0",
            "_view_name": "OutputView",
            "layout": "IPY_MODEL_1ceacf41916e4e1582d8a4c2615d1146",
            "msg_id": "",
            "outputs": [
              {
                "data": {
                  "text/html": "<pre style=\"white-space:pre;overflow-x:auto;line-height:normal;font-family:Menlo,'DejaVu Sans Mono',consolas,'Courier New',monospace\">                                            PATHWAY PROGRESS DASHBOARD                                             \n                                                                                                                   \n   <span style=\"font-weight: bold\">             </span> <span style=\"font-weight: bold\">        no. </span> <span style=\"font-weight: bold\">             </span> <span style=\"font-weight: bold\">            </span>  <span style=\"font-weight: bold\">          </span> <span style=\"font-weight: bold\">  latency </span> <span style=\"font-weight: bold\">          </span> <span style=\"font-weight: bold\">          </span> <span style=\"font-weight: bold\">          </span>   \n   <span style=\"font-weight: bold\">             </span> <span style=\"font-weight: bold\">   messages </span> <span style=\"font-weight: bold\">             </span> <span style=\"font-weight: bold\">            </span>  <span style=\"font-weight: bold\">          </span> <span style=\"font-weight: bold\">  to wall </span> <span style=\"font-weight: bold\">   lag to </span> <span style=\"font-weight: bold\">          </span> <span style=\"font-weight: bold\">          </span>   \n   <span style=\"font-weight: bold\">             </span> <span style=\"font-weight: bold\">     in the </span> <span style=\"font-weight: bold\">             </span> <span style=\"font-weight: bold\">            </span>  <span style=\"font-weight: bold\">          </span> <span style=\"font-weight: bold\">    clock </span> <span style=\"font-weight: bold\">    input </span> <span style=\"font-weight: bold\">    total </span> <span style=\"font-weight: bold\">  current </span>   \n   <span style=\"font-weight: bold\">             </span> <span style=\"font-weight: bold\">       last </span> <span style=\"font-weight: bold\"> in the last </span> <span style=\"font-weight: bold\">      since </span>  <span style=\"font-weight: bold\"> operator </span> <span style=\"font-weight: bold\">     [ms] </span> <span style=\"font-weight: bold\">     [ms] </span> <span style=\"font-weight: bold\">     rows </span> <span style=\"font-weight: bold\">     rows </span>   \n   <span style=\"font-weight: bold\"> connector   </span> <span style=\"font-weight: bold\">  minibatch </span> <span style=\"font-weight: bold\">      minute </span> <span style=\"font-weight: bold\">      start </span>  ──────────────────────────────────────────────────────   \n   ─────────────────────────────────────────────────────   input             3                                     \n    PythonRead…            1          5668        18350    output            3          0                          \n                                                                                                                   \n                                                         <span style=\"color: #7f7f7f; text-decoration-color: #7f7f7f; font-style: italic\">   Above you can see the latency of input and output    </span>  \n                                                         <span style=\"color: #7f7f7f; text-decoration-color: #7f7f7f; font-style: italic\">  operators. The latency is measured as the difference  </span>  \n                                                         <span style=\"color: #7f7f7f; text-decoration-color: #7f7f7f; font-style: italic\"> between the time when the operator processed the data  </span>  \n                                                         <span style=\"color: #7f7f7f; text-decoration-color: #7f7f7f; font-style: italic\">      and the time when pathway acquired the data.      </span>  \n                                                                                                                   \n                                                                                                                   \n                                                                                                                   \n                                                                                                                   \n                                                                                                                   \n                                                                                                                   \n                                                                                                                   \n                                                                                                                   \n                                                                                                                   \n                                                                                                                   \n                                                                                                                   \n                                                                                                                   \n                                                                                                                   \n                                                                                                                   \n                                                                                                                   \n                                                                                                                   \n                                                                                                                   \n                                                                                                                   \n                                                                                                                   \n                                                                                                                   \n                                                                                                                   \n                                                                                                                   \n                                                                                                                   \n                                                                                                                   \n                                                                                                                   \n                                                                                                                   \n                                                                                                                   \n                                                                                                                   \n                                                                                                                   \n                                                                                                                   \n                                                                                                                   \n                                                                                                                   \n                                                                                                                   \n                                                                                                                   \n                                                                                                                   \n                                                                                                                   \n                                                       LOGS                                                        \n                                                                                                                   \n                                                                                                                   \n                                                                                                                   \n                                                                                                                   \n                                                                                                                   \n                                                                                                                   \n                                                                                                                   \n                                                                                                                   \n                                                                                                                   \n                                                                                                                   \n                                                                                                                   \n                                                                                                                   \n                                                                                                                   \n                                                                                                                   \n                                                                                                                   \n                                                                                                                   \n                                                                                                                   \n                                                                                                                   \n                                                                                                                   \n                                                                                                                   \n                                                                                                                   \n                                                                                                                   \n                                                                                                                   \n                                                                                                                   \n                                                                                                                   \n                                                                                                                   \n                                                                                                                   \n                                                                                                                   \n                                                                                                                   \n                                                                                                                   \n                                                                                                                   \n                                                                                                                   \n                                                                                                                   \n                                                                                                                   \n                                                                                                                   \n                                                                                                                   \n                                                                                                                   \n                                                                                                                   \n                                                                                                                   \n                                                                                                                   \n                                                                                                                   \n                                                                                                                   \n                                                                                                                   \n                                                                                                                   \n                                                                                                                   \n                                                                                                                   \n                                                                                                                   \n                                                                                                                   \n                                                                                                                   \n</pre>\n",
                  "text/plain": "                                            PATHWAY PROGRESS DASHBOARD                                             \n                                                                                                                   \n   \u001b[1m             \u001b[0m \u001b[1m \u001b[0m\u001b[1m       no.\u001b[0m\u001b[1m \u001b[0m \u001b[1m             \u001b[0m \u001b[1m            \u001b[0m  \u001b[1m          \u001b[0m \u001b[1m \u001b[0m\u001b[1m latency\u001b[0m\u001b[1m \u001b[0m \u001b[1m          \u001b[0m \u001b[1m          \u001b[0m \u001b[1m          \u001b[0m   \n   \u001b[1m             \u001b[0m \u001b[1m \u001b[0m\u001b[1m  messages\u001b[0m\u001b[1m \u001b[0m \u001b[1m             \u001b[0m \u001b[1m            \u001b[0m  \u001b[1m          \u001b[0m \u001b[1m \u001b[0m\u001b[1m to wall\u001b[0m\u001b[1m \u001b[0m \u001b[1m \u001b[0m\u001b[1m  lag to\u001b[0m\u001b[1m \u001b[0m \u001b[1m          \u001b[0m \u001b[1m          \u001b[0m   \n   \u001b[1m             \u001b[0m \u001b[1m \u001b[0m\u001b[1m    in the\u001b[0m\u001b[1m \u001b[0m \u001b[1m             \u001b[0m \u001b[1m            \u001b[0m  \u001b[1m          \u001b[0m \u001b[1m \u001b[0m\u001b[1m   clock\u001b[0m\u001b[1m \u001b[0m \u001b[1m \u001b[0m\u001b[1m   input\u001b[0m\u001b[1m \u001b[0m \u001b[1m \u001b[0m\u001b[1m   total\u001b[0m\u001b[1m \u001b[0m \u001b[1m \u001b[0m\u001b[1m current\u001b[0m\u001b[1m \u001b[0m   \n   \u001b[1m             \u001b[0m \u001b[1m \u001b[0m\u001b[1m      last\u001b[0m\u001b[1m \u001b[0m \u001b[1m \u001b[0m\u001b[1min the last\u001b[0m\u001b[1m \u001b[0m \u001b[1m \u001b[0m\u001b[1m     since\u001b[0m\u001b[1m \u001b[0m  \u001b[1m \u001b[0m\u001b[1moperator\u001b[0m\u001b[1m \u001b[0m \u001b[1m \u001b[0m\u001b[1m    [ms]\u001b[0m\u001b[1m \u001b[0m \u001b[1m \u001b[0m\u001b[1m    [ms]\u001b[0m\u001b[1m \u001b[0m \u001b[1m \u001b[0m\u001b[1m    rows\u001b[0m\u001b[1m \u001b[0m \u001b[1m \u001b[0m\u001b[1m    rows\u001b[0m\u001b[1m \u001b[0m   \n   \u001b[1m \u001b[0m\u001b[1mconnector  \u001b[0m\u001b[1m \u001b[0m \u001b[1m \u001b[0m\u001b[1m minibatch\u001b[0m\u001b[1m \u001b[0m \u001b[1m \u001b[0m\u001b[1m     minute\u001b[0m\u001b[1m \u001b[0m \u001b[1m \u001b[0m\u001b[1m     start\u001b[0m\u001b[1m \u001b[0m  ──────────────────────────────────────────────────────   \n   ─────────────────────────────────────────────────────   input             3                                     \n    PythonRead…            1          5668        18350    output            3          0                          \n                                                                                                                   \n                                                         \u001b[2;3m   Above you can see the latency of input and output    \u001b[0m  \n                                                         \u001b[2;3m  operators. The latency is measured as the difference  \u001b[0m  \n                                                         \u001b[2;3m between the time when the operator processed the data  \u001b[0m  \n                                                         \u001b[2;3m      and the time when pathway acquired the data.      \u001b[0m  \n                                                                                                                   \n                                                                                                                   \n                                                                                                                   \n                                                                                                                   \n                                                                                                                   \n                                                                                                                   \n                                                                                                                   \n                                                                                                                   \n                                                                                                                   \n                                                                                                                   \n                                                                                                                   \n                                                                                                                   \n                                                                                                                   \n                                                                                                                   \n                                                                                                                   \n                                                                                                                   \n                                                                                                                   \n                                                                                                                   \n                                                                                                                   \n                                                                                                                   \n                                                                                                                   \n                                                                                                                   \n                                                                                                                   \n                                                                                                                   \n                                                                                                                   \n                                                                                                                   \n                                                                                                                   \n                                                                                                                   \n                                                                                                                   \n                                                                                                                   \n                                                                                                                   \n                                                                                                                   \n                                                                                                                   \n                                                                                                                   \n                                                                                                                   \n                                                                                                                   \n                                                       LOGS                                                        \n                                                                                                                   \n                                                                                                                   \n                                                                                                                   \n                                                                                                                   \n                                                                                                                   \n                                                                                                                   \n                                                                                                                   \n                                                                                                                   \n                                                                                                                   \n                                                                                                                   \n                                                                                                                   \n                                                                                                                   \n                                                                                                                   \n                                                                                                                   \n                                                                                                                   \n                                                                                                                   \n                                                                                                                   \n                                                                                                                   \n                                                                                                                   \n                                                                                                                   \n                                                                                                                   \n                                                                                                                   \n                                                                                                                   \n                                                                                                                   \n                                                                                                                   \n                                                                                                                   \n                                                                                                                   \n                                                                                                                   \n                                                                                                                   \n                                                                                                                   \n                                                                                                                   \n                                                                                                                   \n                                                                                                                   \n                                                                                                                   \n                                                                                                                   \n                                                                                                                   \n                                                                                                                   \n                                                                                                                   \n                                                                                                                   \n                                                                                                                   \n                                                                                                                   \n                                                                                                                   \n                                                                                                                   \n                                                                                                                   \n                                                                                                                   \n                                                                                                                   \n                                                                                                                   \n                                                                                                                   \n                                                                                                                   \n"
                },
                "metadata": {},
                "output_type": "display_data"
              }
            ],
            "tabbable": null,
            "tooltip": null
          }
        }
      }
    }
  },
  "nbformat": 4,
  "nbformat_minor": 0
}
