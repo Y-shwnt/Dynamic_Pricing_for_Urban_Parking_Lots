{
  "cells": [
    {
      "cell_type": "markdown",
      "metadata": {
        "id": "LSGgeLKwYHsW"
      },
      "source": [
        "# Install and Import all Libraries"
      ]
    },
    {
      "cell_type": "code",
      "execution_count": null,
      "metadata": {
        "id": "5mzCBNMNeyeY"
      },
      "outputs": [],
      "source": [
        "# installing pathway bokeh\n",
        "!pip install pathway bokeh --quiet"
      ]
    },
    {
      "cell_type": "code",
      "execution_count": null,
      "metadata": {
        "id": "roWSfyfxYclF"
      },
      "outputs": [],
      "source": [
        "# suppress specific user warnings from Bokeh\n",
        "\n",
        "import warnings\n",
        "warnings.filterwarnings(\"ignore\", category=UserWarning, module='bokeh')"
      ]
    },
    {
      "cell_type": "code",
      "execution_count": null,
      "metadata": {
        "id": "cDmX5xAnltKn"
      },
      "outputs": [],
      "source": [
        "# core Libraries\n",
        "\n",
        "import numpy as np\n",
        "import pandas as pd\n",
        "import datetime\n",
        "from datetime import datetime"
      ]
    },
    {
      "cell_type": "code",
      "execution_count": null,
      "metadata": {
        "colab": {
          "base_uri": "https://localhost:8080/",
          "height": 17
        },
        "id": "DvjY8gl7ltKn",
        "outputId": "63d70edf-be6e-4c1a-8c2f-cd91c9ebfdda"
      },
      "outputs": [],
      "source": [
        "# Pathway & Bokeh\n",
        "\n",
        "import pathway as pw\n",
        "import bokeh.plotting\n",
        "import panel as pn"
      ]
    },
    {
      "cell_type": "markdown",
      "metadata": {
        "id": "Zg0jnPt3Yx6d"
      },
      "source": [
        "# Load and Preprocess Parking Dataset"
      ]
    },
    {
      "cell_type": "code",
      "execution_count": null,
      "metadata": {
        "colab": {
          "base_uri": "https://localhost:8080/",
          "height": 226
        },
        "id": "uSO1VOOqY0nW",
        "outputId": "6c58107f-79b7-49e0-f741-6356c0cf0021"
      },
      "outputs": [],
      "source": [
        "# load the dataset\n",
        "\n",
        "df = pd.read_csv('/content/dataset.csv')\n",
        "df.head()"
      ]
    },
    {
      "cell_type": "markdown",
      "metadata": {
        "id": "vyL7KFMcltKn"
      },
      "source": [
        "## Checking missing values"
      ]
    },
    {
      "cell_type": "code",
      "execution_count": null,
      "metadata": {
        "colab": {
          "base_uri": "https://localhost:8080/",
          "height": 460
        },
        "id": "HPgFfPUyY4Ru",
        "outputId": "398add11-5b9a-407d-b4bc-5ddb75bfbb53"
      },
      "outputs": [],
      "source": [
        "# check for missing values\n",
        "\n",
        "df.isna().sum()"
      ]
    },
    {
      "cell_type": "code",
      "execution_count": null,
      "metadata": {
        "id": "3HFkgN8uY7dY"
      },
      "outputs": [],
      "source": [
        "# combine date and time columns into a single datetime column\n",
        "\n",
        "df['Timestamp'] = pd.to_datetime(\n",
        "    df['LastUpdatedDate'] + ' ' + df['LastUpdatedTime'],\n",
        "    format='%d-%m-%Y %H:%M:%S'\n",
        ")"
      ]
    },
    {
      "cell_type": "markdown",
      "metadata": {
        "id": "_E5JmTqcltKo"
      },
      "source": [
        "## Sort record by timestamps"
      ]
    },
    {
      "cell_type": "code",
      "execution_count": null,
      "metadata": {
        "id": "1R63q_T4ltKo"
      },
      "outputs": [],
      "source": [
        "# sort records by timestamp\n",
        "\n",
        "df = df.sort_values('Timestamp').reset_index(drop=True)"
      ]
    },
    {
      "cell_type": "markdown",
      "metadata": {
        "id": "YvqFezIOltKo"
      },
      "source": [
        "## Computing Occupancy Rates"
      ]
    },
    {
      "cell_type": "code",
      "execution_count": null,
      "metadata": {
        "id": "rA3rddjEltKo"
      },
      "outputs": [],
      "source": [
        "# compute occupancy rate\n",
        "\n",
        "df[\"OccupancyRate\"] = df[\"Occupancy\"] / df[\"Capacity\"]"
      ]
    },
    {
      "cell_type": "code",
      "execution_count": null,
      "metadata": {
        "colab": {
          "base_uri": "https://localhost:8080/",
          "height": 313
        },
        "id": "XyIRrd4jltKo",
        "outputId": "0c995eaa-c954-4ea3-c4e1-44b082462b4a"
      },
      "outputs": [],
      "source": [
        "# preview processed data\n",
        "\n",
        "df.head()"
      ]
    },
    {
      "cell_type": "markdown",
      "metadata": {
        "id": "Qwzag6pXZA3t"
      },
      "source": [
        "# Export Streamable Subset for Pathway"
      ]
    },
    {
      "cell_type": "code",
      "execution_count": null,
      "metadata": {
        "id": "ejL0Id95ZCWP"
      },
      "outputs": [],
      "source": [
        "# save selected columns to a CSV to simulate a data stream\n",
        "\n",
        "df[[\"SystemCodeNumber\",\"Timestamp\", \"Occupancy\", \"Capacity\", \"OccupancyRate\"]].to_csv(\"parking_stream.csv\", index=False)"
      ]
    },
    {
      "cell_type": "markdown",
      "metadata": {
        "id": "uAyNyCMGZHSH"
      },
      "source": [
        "# Define Schema and Load Streaming Data with Pathway"
      ]
    },
    {
      "cell_type": "code",
      "execution_count": null,
      "metadata": {
        "id": "Ioqc2vs-ZKdz"
      },
      "outputs": [],
      "source": [
        "# define schema for Pathway ingestion\n",
        "\n",
        "class ParkingSchema(pw.Schema):\n",
        "    SystemCodeNumber: str\n",
        "    Timestamp: str\n",
        "    Occupancy: int\n",
        "    Capacity: int\n",
        "    OccupancyRate: float"
      ]
    },
    {
      "cell_type": "code",
      "execution_count": null,
      "metadata": {
        "id": "9Dxh4CItltKo"
      },
      "outputs": [],
      "source": [
        "# load data with simulated stream rate\n",
        "\n",
        "data = pw.demo.replay_csv(\"parking_stream.csv\", schema=ParkingSchema, input_rate=100)"
      ]
    },
    {
      "cell_type": "markdown",
      "metadata": {
        "id": "sFVVt7v4ZO_4"
      },
      "source": [
        "# Convert Time Columns and Create Daily Lot Identifiers"
      ]
    },
    {
      "cell_type": "code",
      "execution_count": null,
      "metadata": {
        "id": "eTIjZ7upZSLR"
      },
      "outputs": [],
      "source": [
        "fmt = \"%Y-%m-%d %H:%M:%S\"\n",
        "\n",
        "data_with_time = data.with_columns(\n",
        "    t = data.Timestamp.dt.strptime(fmt),\n",
        "    day = data.Timestamp.dt.strptime(fmt).dt.strftime(\"%Y-%m-%d\"),\n",
        "    OccupancyRate = data.Occupancy / data.Capacity,\n",
        "    day_id = data.Timestamp.dt.strptime(fmt).dt.strftime(\"%Y-%m-%d\") + \"_\" + data.SystemCodeNumber,\n",
        ")"
      ]
    },
    {
      "cell_type": "code",
      "execution_count": null,
      "metadata": {
        "id": "uN0YkC0BltKo"
      },
      "outputs": [],
      "source": [
        "# ccreate lookup table of unique lot-day combinations\n",
        "\n",
        "id_lookup = (\n",
        "    data_with_time\n",
        "    .select(pw.this.day_id, pw.this.SystemCodeNumber)\n",
        "    .groupby(pw.this.day_id)\n",
        "    .reduce(\n",
        "        day_id = pw.reducers.min(pw.this.day_id),\n",
        "        SystemCodeNumber = pw.reducers.min(pw.this.SystemCodeNumber)\n",
        "    )\n",
        ")"
      ]
    },
    {
      "cell_type": "markdown",
      "metadata": {
        "id": "GwwNbTYTZXKy"
      },
      "source": [
        "# Aggregate Daily Occupancy Stats and Compute Dynamic Price"
      ]
    },
    {
      "cell_type": "code",
      "execution_count": null,
      "metadata": {
        "id": "FFNi8--GZmMx"
      },
      "outputs": [],
      "source": [
        "from datetime import timedelta\n",
        "\n",
        "# daily rolling window aggregation\n",
        "\n",
        "reduced = (\n",
        "    data_with_time.windowby(\n",
        "        pw.this.t,\n",
        "        instance=pw.this.day_id,\n",
        "        window=pw.temporal.tumbling(timedelta(days=1)),\n",
        "        behavior=pw.temporal.exactly_once_behavior()\n",
        "    )\n",
        "    .reduce(\n",
        "        t = pw.this._pw_window_end,\n",
        "        occ_max = pw.reducers.max(pw.this.OccupancyRate),\n",
        "        occ_min = pw.reducers.min(pw.this.OccupancyRate),\n",
        "        cap = pw.reducers.max(pw.this.Capacity),\n",
        "        day_id = pw.reducers.min(pw.this.day_id),\n",
        "        lot = pw.reducers.min(pw.this.SystemCodeNumber)\n",
        "    )\n",
        ")\n",
        "\n",
        "# pricing formula: base price + scaled volatility\n",
        "\n",
        "delta_window = reduced.with_columns(\n",
        "    price = 10 + (pw.this.occ_max - pw.this.occ_min) / pw.this.cap\n",
        ")"
      ]
    },
    {
      "cell_type": "markdown",
      "metadata": {
        "id": "lvecUrTMZrrh"
      },
      "source": [
        "# Live Streaming Plot using Panel and Bokeh"
      ]
    },
    {
      "cell_type": "code",
      "execution_count": null,
      "metadata": {
        "colab": {
          "base_uri": "https://localhost:8080/",
          "height": 468
        },
        "id": "kf9qeYRRZvkQ",
        "outputId": "c51282e6-6bbf-4e52-dfee-da6a91d9ed6f"
      },
      "outputs": [],
      "source": [
        "pn.extension()\n",
        "\n",
        "# define interactive Bokeh plot\n",
        "\n",
        "\n",
        "def price_plotter(source):\n",
        "    fig = bokeh.plotting.figure(\n",
        "        height=400,\n",
        "        width=800,\n",
        "        title=\"Pathway: Daily Parking Price\",\n",
        "        x_axis_type=\"datetime\",\n",
        "    )\n",
        "\n",
        "    fig.line(\"t\", \"price\", source=source, line_width=2, color=\"navy\")\n",
        "    fig.scatter(\"t\", \"price\", source=source, size=6, color=\"red\", marker=\"circle\")\n",
        "\n",
        "    fig.xaxis.axis_label = \"Time\"\n",
        "    fig.yaxis.axis_label = \"Price ($)\"\n",
        "    return fig\n",
        "\n",
        "# launch panel dashboard\n",
        "\n",
        "viz = delta_window.plot(price_plotter, sorting_col=\"t\")\n",
        "pn.Column(viz).servable()\n",
        "viz.servable()"
      ]
    },
    {
      "cell_type": "markdown",
      "metadata": {
        "id": "311GJG1nZ0AV"
      },
      "source": [
        "# Export Real-Time Price Output to JSON Lines"
      ]
    },
    {
      "cell_type": "code",
      "execution_count": null,
      "metadata": {
        "colab": {
          "base_uri": "https://localhost:8080/",
          "height": 108,
          "referenced_widgets": [
            "68a05d76de6f4cc2a473b6b52b9cea3f",
            "7c989b074e96497d96a1dcdc824b7d5e"
          ]
        },
        "id": "1Z8A2fzfZ4gH",
        "outputId": "cd8f544c-3834-4fef-a0e3-befb2a204b2b"
      },
      "outputs": [],
      "source": [
        "# write output to file for post-processing and visualization\n",
        "\n",
        "pw.io.jsonlines.write(\n",
        "    delta_window.select(\n",
        "        pw.this.t,\n",
        "        pw.this.lot,\n",
        "        pw.this.price\n",
        "    ),\n",
        "    \"pricing_output.jsonl\"\n",
        ")\n",
        "\n",
        "# Run Pathway app\n",
        "\n",
        "pw.run()\n"
      ]
    },
    {
      "cell_type": "markdown",
      "metadata": {
        "id": "HfFJ59VLZ-ak"
      },
      "source": [
        "# Post-Run Visualization by Lot (Multiple Plots)"
      ]
    },
    {
      "cell_type": "code",
      "execution_count": null,
      "metadata": {
        "id": "r0E1nHLzDnEl"
      },
      "outputs": [],
      "source": [
        "from bokeh.plotting import figure, show, output_notebook\n",
        "from bokeh.layouts import column\n",
        "from bokeh.models import ColumnDataSource, HoverTool\n",
        "from bokeh.palettes import Category10\n",
        "\n",
        "output_notebook()"
      ]
    },
    {
      "cell_type": "code",
      "execution_count": null,
      "metadata": {
        "colab": {
          "base_uri": "https://localhost:8080/",
          "height": 1000,
          "resources": {
            "http://localhost:8080/static/extensions/panel/bundled/datatabulator/luxon/build/global/luxon.min.js": {
              "data": "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",
              "headers": [
                [
                  "content-length",
                  "9307"
                ],
                [
                  "content-type",
                  "text/html"
                ]
              ],
              "ok": false,
              "status": 404,
              "status_text": ""
            },
            "http://localhost:8080/static/extensions/panel/bundled/datatabulator/tabulator-tables@6.3.1/dist/css/tabulator_simple.min.css": {
              "data": "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",
              "headers": [
                [
                  "content-length",
                  "9307"
                ],
                [
                  "content-type",
                  "text/html"
                ]
              ],
              "ok": false,
              "status": 404,
              "status_text": ""
            },
            "http://localhost:8080/static/extensions/panel/bundled/datatabulator/tabulator-tables@6.3.1/dist/js/tabulator.min.js": {
              "data": "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",
              "headers": [
                [
                  "content-length",
                  "9307"
                ],
                [
                  "content-type",
                  "text/html"
                ]
              ],
              "ok": false,
              "status": 404,
              "status_text": ""
            },
            "http://localhost:8080/static/extensions/panel/bundled/reactiveesm/es-module-shims@%5E1.10.0/dist/es-module-shims.min.js": {
              "data": "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",
              "headers": [
                [
                  "content-length",
                  "9307"
                ],
                [
                  "content-type",
                  "text/html"
                ]
              ],
              "ok": false,
              "status": 404,
              "status_text": ""
            }
          }
        },
        "id": "mPYOb0W3ltKp",
        "outputId": "8d300253-c710-4bb1-ae5a-9adad43e6f3a"
      },
      "outputs": [],
      "source": [
        "# read saved prices\n",
        "\n",
        "df_price = pd.read_json(\"pricing_output.jsonl\", lines=True)\n",
        "df_price[\"t\"] = pd.to_datetime(df_price[\"t\"])\n",
        "df_price[\"lot\"] = df_price[\"lot\"].astype(str)\n",
        "\n",
        "plots = []\n",
        "lots = sorted(df_price[\"lot\"].unique())\n",
        "palette = Category10[10] + Category10[4]\n",
        "\n",
        "for i, lot in enumerate(lots):\n",
        "    df_lot = df_price[df_price[\"lot\"] == lot].copy()\n",
        "    source = ColumnDataSource(df_lot[[\"t\", \"price\", \"lot\"]])\n",
        "\n",
        "    fig = figure(\n",
        "        height=300,\n",
        "        width=800,\n",
        "        title=f\"Price Trend - Lot {lot}\",\n",
        "        x_axis_type=\"datetime\",\n",
        "        tools=\"pan,wheel_zoom,box_zoom,reset\"\n",
        "    )\n",
        "\n",
        "    fig.line(\"t\", \"price\", source=source, color=palette[i % len(palette)], line_width=2)\n",
        "    fig.scatter(\"t\", \"price\", source=source, size=5, marker=\"circle\", color=\"black\")\n",
        "\n",
        "    hover = HoverTool(\n",
        "        tooltips=[\n",
        "            (\"Lot\", \"@lot\"),\n",
        "            (\"Time\", \"@t{%F %T}\"),\n",
        "            (\"Price\", \"@price{$0.00}\")\n",
        "        ],\n",
        "        formatters={\"@t\": \"datetime\"},\n",
        "        mode=\"vline\"\n",
        "    )\n",
        "    fig.add_tools(hover)\n",
        "\n",
        "    fig.xaxis.axis_label = \"Time\"\n",
        "    fig.yaxis.axis_label = \"Price ($)\"\n",
        "\n",
        "    plots.append(fig)\n",
        "\n",
        "show(column(*plots))"
      ]
    },
    {
      "cell_type": "markdown",
      "metadata": {
        "id": "c2lYpXnOaOA8"
      },
      "source": [
        "# Final Summary Plot: All Lots Combined"
      ]
    },
    {
      "cell_type": "code",
      "execution_count": null,
      "metadata": {
        "id": "oAQEEO9yaR4n"
      },
      "outputs": [],
      "source": [
        "from bokeh.plotting import figure, show, output_notebook\n",
        "from bokeh.models import ColumnDataSource, HoverTool\n",
        "from bokeh.palettes import Category10\n",
        "\n",
        "output_notebook()\n",
        "\n",
        "# normalize datetime precision\n",
        "\n",
        "df = pd.read_json(\"pricing_output.jsonl\", lines=True)\n",
        "df[\"t\"] = pd.to_datetime(df[\"t\"]).dt.tz_localize(None)\n",
        "df[\"t\"] = df[\"t\"].astype(\"datetime64[ms]\")\n",
        "df[\"lot\"] = df[\"lot\"].astype(str)"
      ]
    },
    {
      "cell_type": "code",
      "execution_count": null,
      "metadata": {
        "id": "RNZ_TohLltKp"
      },
      "outputs": [],
      "source": [
        "# create combined figure\n",
        "\n",
        "fig = figure(\n",
        "    height=500,\n",
        "    width=900,\n",
        "    title=\"Daily Pricing Across Parking Lots\",\n",
        "    x_axis_type=\"datetime\"\n",
        ")\n",
        "\n",
        "palette = Category10[10] + Category10[4]\n",
        "lots = sorted(df[\"lot\"].unique())\n",
        "\n",
        "for i, lot in enumerate(lots):\n",
        "    df_lot = df[df[\"lot\"] == lot].copy()\n",
        "    source = ColumnDataSource(df_lot[[\"t\", \"price\", \"lot\"]])\n",
        "\n",
        "    fig.line(\"t\", \"price\", source=source, legend_label=f\"Lot {lot}\",\n",
        "             color=palette[i % len(palette)], line_width=2)"
      ]
    },
    {
      "cell_type": "code",
      "execution_count": null,
      "metadata": {
        "id": "CLRZyrVgltKp"
      },
      "outputs": [],
      "source": [
        "#add interactive hover tool\n",
        "\n",
        "hover = HoverTool(\n",
        "    tooltips=[\n",
        "        (\"Lot\", \"@lot\"),\n",
        "        (\"Time\", \"@t{%F %T}\"),\n",
        "        (\"Price\", \"@price{$0.00}\")\n",
        "    ],\n",
        "    formatters={\"@t\": \"datetime\"},\n",
        "    mode=\"vline\"\n",
        ")\n",
        "fig.add_tools(hover)\n",
        "\n",
        "fig.xaxis.axis_label = \"Time\"\n",
        "fig.yaxis.axis_label = \"Price ($)\"\n",
        "fig.legend.label_text_font_size = \"8pt\""
      ]
    },
    {
      "cell_type": "code",
      "execution_count": null,
      "metadata": {
        "colab": {
          "base_uri": "https://localhost:8080/",
          "height": 517,
          "resources": {
            "http://localhost:8080/static/extensions/panel/bundled/datatabulator/luxon/build/global/luxon.min.js": {
              "data": "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",
              "headers": [
                [
                  "content-length",
                  "9307"
                ],
                [
                  "content-type",
                  "text/html"
                ]
              ],
              "ok": false,
              "status": 404,
              "status_text": ""
            },
            "http://localhost:8080/static/extensions/panel/bundled/datatabulator/tabulator-tables@6.3.1/dist/css/tabulator_simple.min.css": {
              "data": "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",
              "headers": [
                [
                  "content-length",
                  "9307"
                ],
                [
                  "content-type",
                  "text/html"
                ]
              ],
              "ok": false,
              "status": 404,
              "status_text": ""
            },
            "http://localhost:8080/static/extensions/panel/bundled/datatabulator/tabulator-tables@6.3.1/dist/js/tabulator.min.js": {
              "data": "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",
              "headers": [
                [
                  "content-length",
                  "9307"
                ],
                [
                  "content-type",
                  "text/html"
                ]
              ],
              "ok": false,
              "status": 404,
              "status_text": ""
            },
            "http://localhost:8080/static/extensions/panel/bundled/reactiveesm/es-module-shims@%5E1.10.0/dist/es-module-shims.min.js": {
              "data": "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",
              "headers": [
                [
                  "content-length",
                  "9307"
                ],
                [
                  "content-type",
                  "text/html"
                ]
              ],
              "ok": false,
              "status": 404,
              "status_text": ""
            }
          }
        },
        "id": "tbUc_5Q0ltKp",
        "outputId": "e857f704-447e-437f-d223-d88fab10b2cd"
      },
      "outputs": [],
      "source": [
        "#show plot\n",
        "\n",
        "show(fig)"
      ]
    }
  ],
  "metadata": {
    "colab": {
      "provenance": []
    },
    "kernelspec": {
      "display_name": "Python [conda env:base] *",
      "language": "python",
      "name": "conda-base-py"
    },
    "language_info": {
      "codemirror_mode": {
        "name": "ipython",
        "version": 3
      },
      "file_extension": ".py",
      "mimetype": "text/x-python",
      "name": "python",
      "nbconvert_exporter": "python",
      "pygments_lexer": "ipython3",
      "version": "3.12.7"
    },
    "widgets": {
      "application/vnd.jupyter.widget-state+json": {
        "68a05d76de6f4cc2a473b6b52b9cea3f": {
          "model_module": "@jupyter-widgets/output",
          "model_module_version": "1.0.0",
          "model_name": "OutputModel",
          "state": {
            "_dom_classes": [],
            "_model_module": "@jupyter-widgets/output",
            "_model_module_version": "1.0.0",
            "_model_name": "OutputModel",
            "_view_count": null,
            "_view_module": "@jupyter-widgets/output",
            "_view_module_version": "1.0.0",
            "_view_name": "OutputView",
            "layout": "IPY_MODEL_7c989b074e96497d96a1dcdc824b7d5e",
            "msg_id": "",
            "outputs": [
              {
                "data": {
                  "text/html": "<pre style=\"white-space:pre;overflow-x:auto;line-height:normal;font-family:Menlo,'DejaVu Sans Mono',consolas,'Courier New',monospace\">                                            PATHWAY PROGRESS DASHBOARD                                             \n                                                                                                                   \n   <span style=\"font-weight: bold\">             </span> <span style=\"font-weight: bold\">        no. </span> <span style=\"font-weight: bold\">             </span> <span style=\"font-weight: bold\">            </span>  <span style=\"font-weight: bold\">          </span> <span style=\"font-weight: bold\">  latency </span> <span style=\"font-weight: bold\">          </span> <span style=\"font-weight: bold\">          </span> <span style=\"font-weight: bold\">          </span>   \n   <span style=\"font-weight: bold\">             </span> <span style=\"font-weight: bold\">   messages </span> <span style=\"font-weight: bold\">             </span> <span style=\"font-weight: bold\">            </span>  <span style=\"font-weight: bold\">          </span> <span style=\"font-weight: bold\">  to wall </span> <span style=\"font-weight: bold\">   lag to </span> <span style=\"font-weight: bold\">          </span> <span style=\"font-weight: bold\">          </span>   \n   <span style=\"font-weight: bold\">             </span> <span style=\"font-weight: bold\">     in the </span> <span style=\"font-weight: bold\">             </span> <span style=\"font-weight: bold\">            </span>  <span style=\"font-weight: bold\">          </span> <span style=\"font-weight: bold\">    clock </span> <span style=\"font-weight: bold\">    input </span> <span style=\"font-weight: bold\">    total </span> <span style=\"font-weight: bold\">  current </span>   \n   <span style=\"font-weight: bold\">             </span> <span style=\"font-weight: bold\">       last </span> <span style=\"font-weight: bold\"> in the last </span> <span style=\"font-weight: bold\">      since </span>  <span style=\"font-weight: bold\"> operator </span> <span style=\"font-weight: bold\">     [ms] </span> <span style=\"font-weight: bold\">     [ms] </span> <span style=\"font-weight: bold\">     rows </span> <span style=\"font-weight: bold\">     rows </span>   \n   <span style=\"font-weight: bold\"> connector   </span> <span style=\"font-weight: bold\">  minibatch </span> <span style=\"font-weight: bold\">      minute </span> <span style=\"font-weight: bold\">      start </span>  ──────────────────────────────────────────────────────   \n   ─────────────────────────────────────────────────────   input            39                                     \n    PythonRead…     finished          5632        18368    output           39          0                          \n                                                                                                                   \n                                                         <span style=\"color: #7f7f7f; text-decoration-color: #7f7f7f; font-style: italic\">   Above you can see the latency of input and output    </span>  \n                                                         <span style=\"color: #7f7f7f; text-decoration-color: #7f7f7f; font-style: italic\">  operators. The latency is measured as the difference  </span>  \n                                                         <span style=\"color: #7f7f7f; text-decoration-color: #7f7f7f; font-style: italic\"> between the time when the operator processed the data  </span>  \n                                                         <span style=\"color: #7f7f7f; text-decoration-color: #7f7f7f; font-style: italic\">      and the time when pathway acquired the data.      </span>  \n                                                                                                                   \n                                                                                                                   \n                                                                                                                   \n                                                                                                                   \n                                                                                                                   \n                                                                                                                   \n                                                                                                                   \n                                                                                                                   \n                                                                                                                   \n                                                                                                                   \n                                                                                                                   \n                                                                                                                   \n                                                                                                                   \n                                                                                                                   \n                                                                                                                   \n                                                                                                                   \n                                                                                                                   \n                                                                                                                   \n                                                                                                                   \n                                                                                                                   \n                                                                                                                   \n                                                                                                                   \n                                                                                                                   \n                                                                                                                   \n                                                                                                                   \n                                                                                                                   \n                                                                                                                   \n                                                                                                                   \n                                                                                                                   \n                                                                                                                   \n                                                                                                                   \n                                                                                                                   \n                                                                                                                   \n                                                                                                                   \n                                                                                                                   \n                                                                                                                   \n                                                       LOGS                                                        \n  <span style=\"color: #7fbfbf; text-decoration-color: #7fbfbf\">[07/09/25 14:53:51] </span><span style=\"color: #808000; text-decoration-color: #808000\">WARNING </span> PythonReader: Closing the data source                                               \n                                                                                                                   \n                                                                                                                   \n                                                                                                                   \n                                                                                                                   \n                                                                                                                   \n                                                                                                                   \n                                                                                                                   \n                                                                                                                   \n                                                                                                                   \n                                                                                                                   \n                                                                                                                   \n                                                                                                                   \n                                                                                                                   \n                                                                                                                   \n                                                                                                                   \n                                                                                                                   \n                                                                                                                   \n                                                                                                                   \n                                                                                                                   \n                                                                                                                   \n                                                                                                                   \n                                                                                                                   \n                                                                                                                   \n                                                                                                                   \n                                                                                                                   \n                                                                                                                   \n                                                                                                                   \n                                                                                                                   \n                                                                                                                   \n                                                                                                                   \n                                                                                                                   \n                                                                                                                   \n                                                                                                                   \n                                                                                                                   \n                                                                                                                   \n                                                                                                                   \n                                                                                                                   \n                                                                                                                   \n                                                                                                                   \n                                                                                                                   \n                                                                                                                   \n                                                                                                                   \n                                                                                                                   \n                                                                                                                   \n                                                                                                                   \n                                                                                                                   \n                                                                                                                   \n                                                                                                                   \n</pre>\n",
                  "text/plain": "                                            PATHWAY PROGRESS DASHBOARD                                             \n                                                                                                                   \n   \u001b[1m             \u001b[0m \u001b[1m \u001b[0m\u001b[1m       no.\u001b[0m\u001b[1m \u001b[0m \u001b[1m             \u001b[0m \u001b[1m            \u001b[0m  \u001b[1m          \u001b[0m \u001b[1m \u001b[0m\u001b[1m latency\u001b[0m\u001b[1m \u001b[0m \u001b[1m          \u001b[0m \u001b[1m          \u001b[0m \u001b[1m          \u001b[0m   \n   \u001b[1m             \u001b[0m \u001b[1m \u001b[0m\u001b[1m  messages\u001b[0m\u001b[1m \u001b[0m \u001b[1m             \u001b[0m \u001b[1m            \u001b[0m  \u001b[1m          \u001b[0m \u001b[1m \u001b[0m\u001b[1m to wall\u001b[0m\u001b[1m \u001b[0m \u001b[1m \u001b[0m\u001b[1m  lag to\u001b[0m\u001b[1m \u001b[0m \u001b[1m          \u001b[0m \u001b[1m          \u001b[0m   \n   \u001b[1m             \u001b[0m \u001b[1m \u001b[0m\u001b[1m    in the\u001b[0m\u001b[1m \u001b[0m \u001b[1m             \u001b[0m \u001b[1m            \u001b[0m  \u001b[1m          \u001b[0m \u001b[1m \u001b[0m\u001b[1m   clock\u001b[0m\u001b[1m \u001b[0m \u001b[1m \u001b[0m\u001b[1m   input\u001b[0m\u001b[1m \u001b[0m \u001b[1m \u001b[0m\u001b[1m   total\u001b[0m\u001b[1m \u001b[0m \u001b[1m \u001b[0m\u001b[1m current\u001b[0m\u001b[1m \u001b[0m   \n   \u001b[1m             \u001b[0m \u001b[1m \u001b[0m\u001b[1m      last\u001b[0m\u001b[1m \u001b[0m \u001b[1m \u001b[0m\u001b[1min the last\u001b[0m\u001b[1m \u001b[0m \u001b[1m \u001b[0m\u001b[1m     since\u001b[0m\u001b[1m \u001b[0m  \u001b[1m \u001b[0m\u001b[1moperator\u001b[0m\u001b[1m \u001b[0m \u001b[1m \u001b[0m\u001b[1m    [ms]\u001b[0m\u001b[1m \u001b[0m \u001b[1m \u001b[0m\u001b[1m    [ms]\u001b[0m\u001b[1m \u001b[0m \u001b[1m \u001b[0m\u001b[1m    rows\u001b[0m\u001b[1m \u001b[0m \u001b[1m \u001b[0m\u001b[1m    rows\u001b[0m\u001b[1m \u001b[0m   \n   \u001b[1m \u001b[0m\u001b[1mconnector  \u001b[0m\u001b[1m \u001b[0m \u001b[1m \u001b[0m\u001b[1m minibatch\u001b[0m\u001b[1m \u001b[0m \u001b[1m \u001b[0m\u001b[1m     minute\u001b[0m\u001b[1m \u001b[0m \u001b[1m \u001b[0m\u001b[1m     start\u001b[0m\u001b[1m \u001b[0m  ──────────────────────────────────────────────────────   \n   ─────────────────────────────────────────────────────   input            39                                     \n    PythonRead…     finished          5632        18368    output           39          0                          \n                                                                                                                   \n                                                         \u001b[2;3m   Above you can see the latency of input and output    \u001b[0m  \n                                                         \u001b[2;3m  operators. The latency is measured as the difference  \u001b[0m  \n                                                         \u001b[2;3m between the time when the operator processed the data  \u001b[0m  \n                                                         \u001b[2;3m      and the time when pathway acquired the data.      \u001b[0m  \n                                                                                                                   \n                                                                                                                   \n                                                                                                                   \n                                                                                                                   \n                                                                                                                   \n                                                                                                                   \n                                                                                                                   \n                                                                                                                   \n                                                                                                                   \n                                                                                                                   \n                                                                                                                   \n                                                                                                                   \n                                                                                                                   \n                                                                                                                   \n                                                                                                                   \n                                                                                                                   \n                                                                                                                   \n                                                                                                                   \n                                                                                                                   \n                                                                                                                   \n                                                                                                                   \n                                                                                                                   \n                                                                                                                   \n                                                                                                                   \n                                                                                                                   \n                                                                                                                   \n                                                                                                                   \n                                                                                                                   \n                                                                                                                   \n                                                                                                                   \n                                                                                                                   \n                                                                                                                   \n                                                                                                                   \n                                                                                                                   \n                                                                                                                   \n                                                                                                                   \n                                                       LOGS                                                        \n  \u001b[2;36m[07/09/25 14:53:51]\u001b[0m\u001b[2;36m \u001b[0m\u001b[33mWARNING \u001b[0m PythonReader: Closing the data source                                               \n                                                                                                                   \n                                                                                                                   \n                                                                                                                   \n                                                                                                                   \n                                                                                                                   \n                                                                                                                   \n                                                                                                                   \n                                                                                                                   \n                                                                                                                   \n                                                                                                                   \n                                                                                                                   \n                                                                                                                   \n                                                                                                                   \n                                                                                                                   \n                                                                                                                   \n                                                                                                                   \n                                                                                                                   \n                                                                                                                   \n                                                                                                                   \n                                                                                                                   \n                                                                                                                   \n                                                                                                                   \n                                                                                                                   \n                                                                                                                   \n                                                                                                                   \n                                                                                                                   \n                                                                                                                   \n                                                                                                                   \n                                                                                                                   \n                                                                                                                   \n                                                                                                                   \n                                                                                                                   \n                                                                                                                   \n                                                                                                                   \n                                                                                                                   \n                                                                                                                   \n                                                                                                                   \n                                                                                                                   \n                                                                                                                   \n                                                                                                                   \n                                                                                                                   \n                                                                                                                   \n                                                                                                                   \n                                                                                                                   \n                                                                                                                   \n                                                                                                                   \n                                                                                                                   \n                                                                                                                   \n"
                },
                "metadata": {},
                "output_type": "display_data"
              }
            ],
            "tabbable": null,
            "tooltip": null
          }
        },
        "7c989b074e96497d96a1dcdc824b7d5e": {
          "model_module": "@jupyter-widgets/base",
          "model_module_version": "2.0.0",
          "model_name": "LayoutModel",
          "state": {
            "_model_module": "@jupyter-widgets/base",
            "_model_module_version": "2.0.0",
            "_model_name": "LayoutModel",
            "_view_count": null,
            "_view_module": "@jupyter-widgets/base",
            "_view_module_version": "2.0.0",
            "_view_name": "LayoutView",
            "align_content": null,
            "align_items": null,
            "align_self": null,
            "border_bottom": null,
            "border_left": null,
            "border_right": null,
            "border_top": null,
            "bottom": null,
            "display": null,
            "flex": null,
            "flex_flow": null,
            "grid_area": null,
            "grid_auto_columns": null,
            "grid_auto_flow": null,
            "grid_auto_rows": null,
            "grid_column": null,
            "grid_gap": null,
            "grid_row": null,
            "grid_template_areas": null,
            "grid_template_columns": null,
            "grid_template_rows": null,
            "height": null,
            "justify_content": null,
            "justify_items": null,
            "left": null,
            "margin": null,
            "max_height": null,
            "max_width": null,
            "min_height": null,
            "min_width": null,
            "object_fit": null,
            "object_position": null,
            "order": null,
            "overflow": null,
            "padding": null,
            "right": null,
            "top": null,
            "visibility": null,
            "width": null
          }
        }
      }
    }
  },
  "nbformat": 4,
  "nbformat_minor": 0
}
